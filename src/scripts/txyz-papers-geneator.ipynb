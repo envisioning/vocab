{
 "cells": [
  {
   "cell_type": "code",
   "execution_count": 26,
   "metadata": {},
   "outputs": [],
   "source": [
    "import sys\n",
    "import os\n",
    "import requests\n",
    "\n",
    "# Ensure the relative path to the config directory is added\n",
    "notebook_dir = os.path.dirname(os.path.abspath(\"__file__\"))\n",
    "config_path = os.path.join(notebook_dir, \"components-generator\")\n",
    "sys.path.append(config_path)\n",
    "\n",
    "from config import TXYZ_API_KEY"
   ]
  },
  {
   "cell_type": "code",
   "execution_count": 23,
   "metadata": {},
   "outputs": [
    {
     "name": "stdout",
     "output_type": "stream",
     "text": [
      "{'id': 'UmtkzXnXn9xM-qxExrizXg', 'results': [{'title': 'Artificial intelligence and machine learning algorithms', 'link': 'https://www.igi-global.com/chapter/artificial-intelligence-and-machine-learning-algorithms/242107', 'snippet': '… Generally, it is very complicated to appreciate “how the … one of popular limitations of deep learning (a subset of AI and ML… about Artificial Intelligence and its sub-related areas, algorithms …', 'authors': ['AK Tyagi', 'P Chahal'], 'number_of_citations': 103}, {'title': 'Machine learning: Algorithms, real-world applications and research directions', 'link': 'https://link.springer.com/article/10.1007/S42979-021-00592-X', 'snippet': '… of artificial intelligence (AI), particularly, machine learning (ML… machine learning in this paper, which can play an important … in the relevant areas based on machine learning techniques. …', 'authors': ['IH Sarker'], 'number_of_citations': 3891}, {'title': 'Machine learning algorithms-a review', 'link': 'https://www.researchgate.net/profile/Batta-Mahesh/publication/344717762_Machine_Learning_Algorithms_-A_Review/links/5f8b2365299bf1b53e2d243a/Machine-Learning-Algorithms-A-Review.pdf?eid=5082902844932096t', 'snippet': '… Many industries apply machine learning to extract relevant … , which has its roots in artificial intelligence, is swiftly gaining … This paper surveys various machine learning algorithms. …', 'authors': ['B Mahesh'], 'number_of_citations': 3442}, {'title': 'Promising artificial intelligence-machine learning-deep learning algorithms in ophthalmology', 'link': 'https://journals.lww.com/apjoo/fulltext/2019/05000/promising_artificial_intelligence_machine.13.aspx', 'snippet': '… articles on the potential clinical automated applications of AI, … are related to DR, AMD and glaucoma, which are the 3 most … very important for automatic detection of glaucoma via AI, ML…', 'authors': ['L Balyen', 'T Peto'], 'number_of_citations': 281}, {'title': 'Machine learning from theory to algorithms: an overview', 'link': 'https://iopscience.iop.org/article/10.1088/1742-6596/1142/1/012012/meta', 'snippet': '… (ML) is a category of artificial intelligence that enables … This paper presents an overview of machine learning, its … , data analysis, machine learning and their related methods in order to …', 'authors': ['J Alzubi', 'A Nayyar', 'A Kumar'], 'number_of_citations': 930}, {'title': 'Artificial intelligence and machine learning applications in smart production: Progress, trends, and directions', 'link': 'https://www.mdpi.com/2071-1050/12/2/492', 'snippet': '… literature relating to the application of artificial intelligence and … This paper presents valuable ideas and perspectives for … [32] reviewed the most important classification algorithms …', 'authors': ['R Cioffi', 'M Travaglioni', 'G Piscitelli', 'A Petrillo…'], 'number_of_citations': 661}, {'title': 'Machine learning & artificial intelligence in the quantum domain: a review of recent progress', 'link': 'https://iopscience.iop.org/article/10.1088/1361-6633/aab406/meta', 'snippet': '… give quick overviews of the relevant basic concepts of the fields … central body of the paper. We finish with an outlook section 8. … of, eg, quantum algorithms for machine learning and data …', 'authors': ['V Dunjko', 'HJ Briegel'], 'number_of_citations': 1015}, {'title': 'The use of machine learning algorithms in recommender systems: A systematic review', 'link': 'https://www.sciencedirect.com/science/article/pii/S0957417417308333', 'snippet': '… This paper presents a systematic review of the literature that … (ML), an area of artificial intelligence (AI). ML has been studied … related to this article, namely recommender systems and …', 'authors': ['I Portugal', 'P Alencar', 'D Cowan'], 'number_of_citations': 905}, {'title': 'Artificial intelligence and machine learning in finance: Identifying foundations, themes, and research clusters from bibliometric analysis', 'link': 'https://www.sciencedirect.com/science/article/pii/S2214635021001210', 'snippet': '… that consolidates the extant literature pertaining to the financial … This is an algorithmic approach to defining the states and … opportunity to acknowledge important articles that may have …', 'authors': ['JW Goodell', 'S Kumar', 'WM Lim', 'D Pattnaik'], 'number_of_citations': 527}, {'title': 'Machine Learning Algorithms: Popular algorithms for data science and machine learning', 'link': 'https://books.google.com/books?hl=en&lr=&id=_EZsDwAAQBAJ&oi=fnd&pg=PP1&dq=most+prominent+papers+on+algorithms+related+to+AI+or+machine+learning&ots=cJRi0Ub65I&sig=ITa3xAk6XG5nM4_jF0T__B507tQ', 'snippet': '… /manager in AI, machine/deep learning solution design, … The goal of machine learning is almost related to this precise … (it can be found in the aforementioned paper), however, the main …', 'authors': ['G Bonaccorso'], 'number_of_citations': 1106}]}\n"
     ]
    }
   ],
   "source": [
    "url = \"https://api.txyz.ai/v1/search/scholar\"\n",
    "\n",
    "querystring = {\"query\": \"most prominent papers on Algorithm related to AI or machine learning\"}\n",
    "\n",
    "headers = {\"Authorization\": f\"Bearer {TXYZ_API_KEY}\"}\n",
    "\n",
    "response = requests.post(url, headers=headers, params=querystring)\n",
    "\n",
    "print(response.json())"
   ]
  }
 ],
 "metadata": {
  "kernelspec": {
   "display_name": "Python 3",
   "language": "python",
   "name": "python3"
  },
  "language_info": {
   "codemirror_mode": {
    "name": "ipython",
    "version": 3
   },
   "file_extension": ".py",
   "mimetype": "text/x-python",
   "name": "python",
   "nbconvert_exporter": "python",
   "pygments_lexer": "ipython3",
   "version": "3.9.6"
  }
 },
 "nbformat": 4,
 "nbformat_minor": 2
}

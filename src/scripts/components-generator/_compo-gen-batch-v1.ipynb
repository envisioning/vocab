{
 "cells": [
  {
   "cell_type": "code",
   "execution_count": 9,
   "metadata": {},
   "outputs": [
    {
     "name": "stdout",
     "output_type": "stream",
     "text": [
      "Batch created: BetaMessageBatch(id='msgbatch_01Gn8FoN6kfJsqDphTC9VFRq', archived_at=None, cancel_initiated_at=None, created_at=datetime.datetime(2024, 10, 29, 19, 14, 44, 205229, tzinfo=datetime.timezone.utc), ended_at=None, expires_at=datetime.datetime(2024, 10, 30, 19, 14, 44, 205229, tzinfo=datetime.timezone.utc), processing_status='in_progress', request_counts=BetaMessageBatchRequestCounts(canceled=0, errored=0, expired=0, processing=2, succeeded=0), results_url=None, type='message_batch')\n",
      "Batch msgbatch_01Gn8FoN6kfJsqDphTC9VFRq processing status: in_progress\n",
      "Batch msgbatch_01Gn8FoN6kfJsqDphTC9VFRq processing status: in_progress\n",
      "Batch msgbatch_01Gn8FoN6kfJsqDphTC9VFRq processing status: in_progress\n",
      "Batch msgbatch_01Gn8FoN6kfJsqDphTC9VFRq processing status: in_progress\n",
      "Batch msgbatch_01Gn8FoN6kfJsqDphTC9VFRq processing status: in_progress\n"
     ]
    },
    {
     "ename": "KeyboardInterrupt",
     "evalue": "",
     "output_type": "error",
     "traceback": [
      "\u001b[0;31m---------------------------------------------------------------------------\u001b[0m",
      "\u001b[0;31mKeyboardInterrupt\u001b[0m                         Traceback (most recent call last)",
      "Cell \u001b[0;32mIn[9], line 64\u001b[0m\n\u001b[1;32m     61\u001b[0m             \u001b[38;5;28;01mbreak\u001b[39;00m\n\u001b[1;32m     63\u001b[0m         \u001b[38;5;66;03m# Add a small delay between polling attempts\u001b[39;00m\n\u001b[0;32m---> 64\u001b[0m         \u001b[43mtime\u001b[49m\u001b[38;5;241;43m.\u001b[39;49m\u001b[43msleep\u001b[49m\u001b[43m(\u001b[49m\u001b[38;5;241;43m5\u001b[39;49m\u001b[43m)\u001b[49m\n\u001b[1;32m     66\u001b[0m \u001b[38;5;28;01mexcept\u001b[39;00m anthropic\u001b[38;5;241m.\u001b[39mAPIError \u001b[38;5;28;01mas\u001b[39;00m e:\n\u001b[1;32m     67\u001b[0m     \u001b[38;5;28mprint\u001b[39m(\u001b[38;5;124mf\u001b[39m\u001b[38;5;124m\"\u001b[39m\u001b[38;5;124mAPI Error: \u001b[39m\u001b[38;5;132;01m{\u001b[39;00me\u001b[38;5;132;01m}\u001b[39;00m\u001b[38;5;124m\"\u001b[39m)\n",
      "\u001b[0;31mKeyboardInterrupt\u001b[0m: "
     ]
    }
   ],
   "source": [
    "import anthropic\n",
    "from anthropic.types.beta.message_create_params import MessageCreateParamsNonStreaming\n",
    "from anthropic.types.beta.messages.batch_create_params import Request\n",
    "from config import ANTHROPIC_API_KEY\n",
    "import time\n",
    "\n",
    "client = anthropic.Anthropic(\n",
    "    api_key=ANTHROPIC_API_KEY,\n",
    ")\n",
    "\n",
    "try:\n",
    "    message_batch = client.beta.messages.batches.create(\n",
    "        betas=[\"message-batches-2024-09-24\"],\n",
    "        requests=[\n",
    "            Request(\n",
    "                custom_id=\"first-prompt-in-my-batch\",\n",
    "                params=MessageCreateParamsNonStreaming(\n",
    "                    model=\"claude-3-5-sonnet-20241022\",\n",
    "                    max_tokens=100,\n",
    "                    system=\"You are a dog expert.\",\n",
    "                    messages=[{\n",
    "                        \"role\": \"user\",\n",
    "                        \"content\": \"Hey Claude, tell me a short fun fact about italian spitz dogs!\",\n",
    "                    }]\n",
    "                )\n",
    "            ),\n",
    "            Request(\n",
    "                custom_id=\"second-prompt-in-my-batch\",\n",
    "                params=MessageCreateParamsNonStreaming(\n",
    "                    model=\"claude-3-5-sonnet-20240620\",\n",
    "                    max_tokens=100,\n",
    "                    system=\"You are a dog expert.\",\n",
    "                    messages=[{\n",
    "                        \"role\": \"user\",\n",
    "                        \"content\": \"Hey Claude, tell me a short fun fact about italian spitz dogs!\",\n",
    "                    }]\n",
    "                )\n",
    "            )\n",
    "        ]\n",
    "    )\n",
    "    print(\"Batch created:\", message_batch)\n",
    "\n",
    "    # Poll for results\n",
    "    while True:\n",
    "        batch_status = client.beta.messages.batches.retrieve(message_batch.id)\n",
    "        print(f\"Batch {batch_status.id} processing status: {batch_status.processing_status}\")\n",
    "\n",
    "        if batch_status.processing_status == \"ended\":\n",
    "            # Stream results\n",
    "            for result in client.beta.messages.batches.results(message_batch.id):\n",
    "                result_type = result.result.type\n",
    "                if result_type == \"canceled\":\n",
    "                    print(f\"\\nRequest canceled for {result.custom_id}\")\n",
    "                elif result_type == \"errored\":\n",
    "                    print(f\"\\nError for {result.custom_id}:\", result.result.error)\n",
    "                elif result_type == \"expired\":\n",
    "                    print(f\"\\nRequest expired for {result.custom_id}\")\n",
    "                elif result_type == \"succeeded\":\n",
    "                    print(f\"\\nSuccess for {result.custom_id}:\")\n",
    "                    print(result.result.message.content)\n",
    "            break\n",
    "\n",
    "        # Add a small delay between polling attempts\n",
    "        time.sleep(5)\n",
    "\n",
    "except anthropic.APIError as e:\n",
    "    print(f\"API Error: {e}\")\n",
    "except Exception as e:\n",
    "    print(f\"Unexpected error: {e}\")"
   ]
  }
 ],
 "metadata": {
  "kernelspec": {
   "display_name": "Python 3",
   "language": "python",
   "name": "python3"
  },
  "language_info": {
   "codemirror_mode": {
    "name": "ipython",
    "version": 3
   },
   "file_extension": ".py",
   "mimetype": "text/x-python",
   "name": "python",
   "nbconvert_exporter": "python",
   "pygments_lexer": "ipython3",
   "version": "3.9.6"
  }
 },
 "nbformat": 4,
 "nbformat_minor": 2
}
